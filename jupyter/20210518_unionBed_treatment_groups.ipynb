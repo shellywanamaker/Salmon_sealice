{
 "cells": [
  {
   "cell_type": "code",
   "execution_count": 69,
   "metadata": {},
   "outputs": [
    {
     "name": "stdout",
     "output_type": "stream",
     "text": [
      "/Volumes/HHD/Documents/GitHub/Salmon_sealice/data/5x_bed\r\n"
     ]
    }
   ],
   "source": [
    "!pwd\n"
   ]
  },
  {
   "cell_type": "code",
   "execution_count": 70,
   "metadata": {},
   "outputs": [
    {
     "name": "stdout",
     "output_type": "stream",
     "text": [
      "[Errno 2] No such file or directory: '../data/'\n",
      "/Volumes/HHD/Documents/GitHub/Salmon_sealice/data/5x_bed\n"
     ]
    }
   ],
   "source": [
    "cd ../data/"
   ]
  },
  {
   "cell_type": "code",
   "execution_count": 71,
   "metadata": {},
   "outputs": [
    {
     "name": "stdout",
     "output_type": "stream",
     "text": [
      "[Errno 2] No such file or directory: '5x_bed/'\n",
      "/Volumes/HHD/Documents/GitHub/Salmon_sealice/data/5x_bed\n"
     ]
    }
   ],
   "source": [
    "cd 5x_bed/"
   ]
  },
  {
   "cell_type": "code",
   "execution_count": 72,
   "metadata": {},
   "outputs": [
    {
     "name": "stdout",
     "output_type": "stream",
     "text": [
      "building file list ... \n",
      "20 files to consider\n",
      "\n",
      "sent 1125 bytes  received 20 bytes  458.00 bytes/sec\n",
      "total size is 551791119  speedup is 481913.64\n"
     ]
    }
   ],
   "source": [
    "!rsync --archive --verbose --progress /Volumes/web/metacarcinus/Salmo_Calig/analyses/20200613/*_5x.bed .\n"
   ]
  },
  {
   "cell_type": "code",
   "execution_count": 73,
   "metadata": {
    "collapsed": true
   },
   "outputs": [],
   "source": [
    "# rsync --archive --verbose --progress /Volumes/web/metacarcinus/Salmo_Calig/analyses/20200613/*_5x.bed .\n",
    "# building file list ... \n",
    "# 20 files to consider\n",
    "# 16C_26psu_1_S13_R1_001_val_1_bismark_bt2_pe_5x.bed\n",
    "#     48010090 100%    2.36MB/s    0:00:19 (xfer#1, to-check=19/20)\n",
    "# 16C_26psu_2_S14_R1_001_val_1_bismark_bt2_pe_5x.bed\n",
    "#     29213248 100%    2.38MB/s    0:00:11 (xfer#2, to-check=18/20)\n",
    "# 16C_26psu_3_S15_R1_001_val_1_bismark_bt2_pe_5x.bed\n",
    "#      8066387 100%    2.26MB/s    0:00:03 (xfer#3, to-check=17/20)\n",
    "# 16C_26psu_4_S16_R1_001_val_1_bismark_bt2_pe_5x.bed\n",
    "#     27947490 100%    2.42MB/s    0:00:10 (xfer#4, to-check=16/20)\n",
    "# 16C_32psu_1_S1_R1_001_val_1_bismark_bt2_pe_5x.bed\n",
    "#     44518403 100%    2.50MB/s    0:00:17 (xfer#5, to-check=15/20)\n",
    "# 16C_32psu_2_S2_R1_001_val_1_bismark_bt2_pe_5x.bed\n",
    "#     27998251 100%    2.47MB/s    0:00:10 (xfer#6, to-check=14/20)\n",
    "# 16C_32psu_3_S3_R1_001_val_1_bismark_bt2_pe_5x.bed\n",
    "#     21218822 100%    2.33MB/s    0:00:08 (xfer#7, to-check=13/20)\n",
    "# 16C_32psu_4_S4_R1_001_val_1_bismark_bt2_pe_5x.bed\n",
    "#     17414203 100%    2.40MB/s    0:00:06 (xfer#8, to-check=12/20)\n",
    "# 8C_26psu_2_S10_R1_001_val_1_bismark_bt2_pe_5x.bed\n",
    "#     33911972 100%    2.43MB/s    0:00:13 (xfer#9, to-check=10/20)\n",
    "# 8C_26psu_3_S11_R1_001_val_1_bismark_bt2_pe_5x.bed\n",
    "#     34080423 100%    2.63MB/s    0:00:12 (xfer#10, to-check=9/20)\n",
    "# 8C_26psu_4_S12_R1_001_val_1_bismark_bt2_pe_5x.bed\n",
    "#      4069367 100%    1.44MB/s    0:00:02 (xfer#11, to-check=8/20)\n",
    "# 8C_32psu_1_S5_R1_001_val_1_bismark_bt2_pe_5x.bed\n",
    "#     30884513 100%    2.48MB/s    0:00:11 (xfer#12, to-check=7/20)\n",
    "# 8C_32psu_2_S6_R1_001_val_1_bismark_bt2_pe_5x.bed\n",
    "#     19998506 100%    2.36MB/s    0:00:08 (xfer#13, to-check=6/20)\n",
    "# 8C_32psu_3_S7_R1_001_val_1_bismark_bt2_pe_5x.bed\n",
    "#     27801181 100%    2.36MB/s    0:00:11 (xfer#14, to-check=5/20)\n",
    "# 8C_32psu_4_S8_R1_001_val_1_bismark_bt2_pe_5x.bed\n",
    "#     28694303 100%    2.40MB/s    0:00:11 (xfer#15, to-check=4/20)\n",
    "# CTRL_16C_26psu_1_S19_R1_001_val_1_bismark_bt2_pe_5x.bed\n",
    "#     43416786 100%    2.59MB/s    0:00:16 (xfer#16, to-check=3/20)\n",
    "# CTRL_16C_26psu_2_S21_R1_001_val_1_bismark_bt2_pe_5x.bed\n",
    "#     30825253 100%    2.48MB/s    0:00:11 (xfer#17, to-check=2/20)\n",
    "# CTRL_8C_26psu_1_S17_R1_001_val_1_bismark_bt2_pe_5x.bed\n",
    "#     13135405 100%    2.28MB/s    0:00:05 (xfer#18, to-check=1/20)\n",
    "# CTRL_8C_26psu_2_S18_R1_001_val_1_bismark_bt2_pe_5x.bed\n",
    "#     32932559 100%    2.50MB/s    0:00:12 (xfer#19, to-check=0/20)\n",
    "# \n",
    "# sent 524203111 bytes  received 444 bytes  2588659.53 bytes/sec\n",
    "# total size is 551791119  speedup is 1.05"
   ]
  },
  {
   "cell_type": "code",
   "execution_count": 74,
   "metadata": {},
   "outputs": [
    {
     "name": "stdout",
     "output_type": "stream",
     "text": [
      "NC_001960.1\t200\t202\t0.349040\t2\t573\r\n",
      "NC_001960.1\t231\t233\t0.847458\t5\t590\r\n",
      "NC_001960.1\t267\t269\t0.384615\t2\t520\r\n",
      "NC_001960.1\t274\t276\t1.123596\t8\t712\r\n",
      "NC_001960.1\t301\t303\t0.661626\t7\t1058\r\n",
      "NC_001960.1\t326\t328\t1.614764\t14\t867\r\n",
      "NC_001960.1\t333\t335\t0.236407\t2\t846\r\n",
      "NC_001960.1\t379\t381\t0.670241\t5\t746\r\n",
      "NC_001960.1\t396\t398\t0.609756\t4\t656\r\n",
      "NC_001960.1\t463\t465\t1.204819\t6\t498\r\n"
     ]
    }
   ],
   "source": [
    "#preview file\n",
    "!head CTRL_16C_26psu_2_S21_R1_001_val_1_bismark_bt2_pe_5x.bed"
   ]
  },
  {
   "cell_type": "code",
   "execution_count": 75,
   "metadata": {
    "collapsed": true
   },
   "outputs": [],
   "source": [
    "# create one bedgraph of percent methylation for each loci \n",
    "# covered by any individual within a ttreatment group"
   ]
  },
  {
   "cell_type": "code",
   "execution_count": 76,
   "metadata": {
    "collapsed": true
   },
   "outputs": [],
   "source": [
    "# print the loci chromosome, start, and end position, and the fraction of reads that are methylated\n",
    "# sort the file (sortBed)\n",
    "#save it"
   ]
  },
  {
   "cell_type": "code",
   "execution_count": 77,
   "metadata": {},
   "outputs": [],
   "source": [
    "%%bash \n",
    "\n",
    "for f in *_5x.bed \n",
    "do\n",
    "awk -F \"\\t\" '{print $1\"\\t\"$2\"\\t\"$3\"\\t\"$4/100}' ${f} |\\\n",
    "sortBed \\\n",
    "-i stdin \\\n",
    "> $(basename ${f%_5x.bedgraph})_5x.sort.bedgraph\n",
    "done\n"
   ]
  },
  {
   "cell_type": "code",
   "execution_count": 78,
   "metadata": {
    "scrolled": true
   },
   "outputs": [
    {
     "name": "stdout",
     "output_type": "stream",
     "text": [
      "NC_001960.1\t106\t108\t0\r\n",
      "NC_001960.1\t200\t202\t0.00515464\r\n",
      "NC_001960.1\t231\t233\t0.0112782\r\n",
      "NC_001960.1\t267\t269\t0.00137363\r\n",
      "NC_001960.1\t274\t276\t0.0060423\r\n",
      "NC_001960.1\t301\t303\t0.004828\r\n",
      "NC_001960.1\t326\t328\t0.0151829\r\n",
      "NC_001960.1\t333\t335\t0.00280899\r\n",
      "NC_001960.1\t379\t381\t0.0039557\r\n",
      "NC_001960.1\t396\t398\t0.00533808\r\n"
     ]
    }
   ],
   "source": [
    "!head 8C_26psu_1_S9_R1_001_val_1_bismark_bt2_pe_5x.bed_5x.sort.bedgraph"
   ]
  },
  {
   "cell_type": "code",
   "execution_count": 79,
   "metadata": {},
   "outputs": [],
   "source": [
    "!unionBedGraphs \\\n",
    "-header \\\n",
    "-filler N/A \\\n",
    "-names 1 2 3 4 \\\n",
    "-i \\\n",
    "8C_26psu_1_S9_R1_001_val_1_bismark_bt2_pe_5x.bed_5x.sort.bedgraph \\\n",
    "8C_26psu_2_S10_R1_001_val_1_bismark_bt2_pe_5x.bed_5x.sort.bedgraph \\\n",
    "8C_26psu_3_S11_R1_001_val_1_bismark_bt2_pe_5x.bed_5x.sort.bedgraph \\\n",
    "8C_26psu_4_S12_R1_001_val_1_bismark_bt2_pe_5x.bed_5x.sort.bedgraph \\\n",
    "> 8C_26psu_union_5x.bedgraph"
   ]
  },
  {
   "cell_type": "code",
   "execution_count": 80,
   "metadata": {
    "scrolled": true
   },
   "outputs": [
    {
     "name": "stdout",
     "output_type": "stream",
     "text": [
      "chrom\tstart\tend\t1\t2\t3\t4\r\n",
      "NC_001960.1\t106\t108\t0\t0\tN/A\t0\r\n",
      "NC_001960.1\t200\t202\t0.00515464\t0.00433839\t0.00772201\t0.00909091\r\n",
      "NC_001960.1\t231\t233\t0.0112782\t0.00214362\t0.00567108\t0\r\n",
      "NC_001960.1\t267\t269\t0.00137363\t0.00571429\t0.00642398\t0\r\n",
      "NC_001960.1\t274\t276\t0.0060423\t0.00573301\t0.00593472\t0\r\n",
      "NC_001960.1\t301\t303\t0.004828\t0.00376471\t0.00440141\t0\r\n",
      "NC_001960.1\t326\t328\t0.0151829\t0.0128277\t0.0155383\t0.0124334\r\n",
      "NC_001960.1\t333\t335\t0.00280899\t0.00685714\t0.0056243\t0.00362976\r\n",
      "NC_001960.1\t379\t381\t0.0039557\t0.0038835\t0.00248756\t0\r\n"
     ]
    }
   ],
   "source": [
    "!head 8C_26psu_union_5x.bedgraph"
   ]
  },
  {
   "cell_type": "code",
   "execution_count": 81,
   "metadata": {
    "collapsed": true
   },
   "outputs": [],
   "source": [
    "!unionBedGraphs \\\n",
    "-header \\\n",
    "-filler N/A \\\n",
    "-names 1 2 3 4 \\\n",
    "-i \\\n",
    "8C_32psu_1_S5_R1_001_val_1_bismark_bt2_pe_5x.bed_5x.sort.bedgraph \\\n",
    "8C_32psu_2_S6_R1_001_val_1_bismark_bt2_pe_5x.bed_5x.sort.bedgraph \\\n",
    "8C_32psu_3_S7_R1_001_val_1_bismark_bt2_pe_5x.bed_5x.sort.bedgraph \\\n",
    "8C_32psu_4_S8_R1_001_val_1_bismark_bt2_pe_5x.bed_5x.sort.bedgraph \\\n",
    "> 8C_32psu_union_5x.bedgraph"
   ]
  },
  {
   "cell_type": "code",
   "execution_count": 82,
   "metadata": {
    "scrolled": true
   },
   "outputs": [
    {
     "name": "stdout",
     "output_type": "stream",
     "text": [
      "chrom\tstart\tend\t1\t2\t3\t4\r\n",
      "NC_001960.1\t106\t108\tN/A\t0\tN/A\t0\r\n",
      "NC_001960.1\t200\t202\t0\t0.00632111\t0.00445434\t0.00863931\r\n",
      "NC_001960.1\t231\t233\t0.00681818\t0.00377358\t0.00224215\t0.00628931\r\n",
      "NC_001960.1\t267\t269\t0.00276243\t0.00282885\t0.0023753\t0.00436681\r\n",
      "NC_001960.1\t274\t276\t0.00392927\t0.00508647\t0.00524476\t0.00617284\r\n",
      "NC_001960.1\t301\t303\t0.00499376\t0.00179104\t0.00404858\t0.00348432\r\n",
      "NC_001960.1\t326\t328\t0.0127186\t0.0130624\t0.0148148\t0.0175258\r\n",
      "NC_001960.1\t333\t335\t0.00487013\t0.00074184\t0.00126743\t0.00736842\r\n",
      "NC_001960.1\t379\t381\t0.00796813\t0.00339271\t0.00449102\t0.00465658\r\n"
     ]
    }
   ],
   "source": [
    "!head 8C_32psu_union_5x.bedgraph"
   ]
  },
  {
   "cell_type": "code",
   "execution_count": 83,
   "metadata": {
    "collapsed": true
   },
   "outputs": [],
   "source": [
    "!unionBedGraphs \\\n",
    "-header \\\n",
    "-filler N/A \\\n",
    "-names 1 2 3 4 \\\n",
    "-i \\\n",
    "16C_26psu_1_S13_R1_001_val_1_bismark_bt2_pe_5x.bed_5x.sort.bedgraph \\\n",
    "16C_26psu_2_S14_R1_001_val_1_bismark_bt2_pe_5x.bed_5x.sort.bedgraph \\\n",
    "16C_26psu_3_S15_R1_001_val_1_bismark_bt2_pe_5x.bed_5x.sort.bedgraph \\\n",
    "16C_26psu_4_S16_R1_001_val_1_bismark_bt2_pe_5x.bed_5x.sort.bedgraph \\\n",
    "> 16C_26psu_union_5x.bedgraph"
   ]
  },
  {
   "cell_type": "code",
   "execution_count": null,
   "metadata": {
    "scrolled": false
   },
   "outputs": [
    {
     "name": "stdout",
     "output_type": "stream",
     "text": [
      "chrom\tstart\tend\t1\t2\t3\t4\r\n",
      "NC_001960.1\t106\t108\t0\t0\tN/A\t0\r\n",
      "NC_001960.1\t200\t202\t0.00283688\t0.00446429\t0.00595238\t0.00372439\r\n",
      "NC_001960.1\t231\t233\t0.00552486\t0.00441501\t0.014245\t0.00183824\r\n",
      "NC_001960.1\t267\t269\t0.00439883\t0\t0.022082\t0.00419287\r\n",
      "NC_001960.1\t274\t276\t0.00411523\t0\t0.00455581\t0.00739645\r\n",
      "NC_001960.1\t301\t303\t0.0018105\t0.0026087\t0.0047619\t0.00397141\r\n",
      "NC_001960.1\t326\t328\t0.0122302\t0.0161943\t0.0123119\t0.0103872\r\n",
      "NC_001960.1\t333\t335\t0.00293902\t0.00206612\t0.00139276\t0.00287908\r\n",
      "NC_001960.1\t379\t381\t0.00162734\t0.00462963\t0.00634921\t0.00442478\r\n"
     ]
    }
   ],
   "source": [
    "!head 16C_26psu_union_5x.bedgraph"
   ]
  },
  {
   "cell_type": "code",
   "execution_count": null,
   "metadata": {
    "collapsed": true
   },
   "outputs": [],
   "source": [
    "!unionBedGraphs \\\n",
    "-header \\\n",
    "-filler N/A \\\n",
    "-names 1 2 3 4 \\\n",
    "-i \\\n",
    "16C_32psu_1_S1_R1_001_val_1_bismark_bt2_pe_5x.bed_5x.sort.bedgraph \\\n",
    "16C_32psu_2_S2_R1_001_val_1_bismark_bt2_pe_5x.bed_5x.sort.bedgraph \\\n",
    "16C_32psu_3_S3_R1_001_val_1_bismark_bt2_pe_5x.bed_5x.sort.bedgraph \\\n",
    "16C_32psu_4_S4_R1_001_val_1_bismark_bt2_pe_5x.bed_5x.sort.bedgraph \\\n",
    "> 16C_32psu_union_5x.bedgraph"
   ]
  },
  {
   "cell_type": "code",
   "execution_count": null,
   "metadata": {
    "scrolled": false
   },
   "outputs": [],
   "source": [
    "!head 16C_32psu_union_5x.bedgraph"
   ]
  },
  {
   "cell_type": "code",
   "execution_count": null,
   "metadata": {},
   "outputs": [],
   "source": [
    "#Import union data into pandas\n",
    "#Check head\n",
    "import pandas as pd        \n",
    "df = pd.read_table(\"8C_26psu_union_5x.bedgraph\")\n",
    "df.head(5)"
   ]
  },
  {
   "cell_type": "code",
   "execution_count": null,
   "metadata": {},
   "outputs": [],
   "source": [
    "#Average the first 4 columns and save as a new column\n",
    "#Check output\n",
    "df['Avg_meth'] = df[['1', '2', '3','4']].mean(axis=1)\n",
    "df.tail(10)"
   ]
  },
  {
   "cell_type": "code",
   "execution_count": null,
   "metadata": {},
   "outputs": [],
   "source": [
    "df2 = df[['chrom', 'start', 'end','Avg_meth']]\n",
    "df2.tail(10)"
   ]
  },
  {
   "cell_type": "code",
   "execution_count": null,
   "metadata": {
    "collapsed": true
   },
   "outputs": [],
   "source": [
    "#Save dataframe in a tabular format and include N/As. Do not include quotes.\n",
    "df2.to_csv(\"8C_26psu_5x-averages.bedgraph\", sep = \"\\t\", na_rep = \"N/A\", header = False,index=False,quoting = 3)\n"
   ]
  },
  {
   "cell_type": "code",
   "execution_count": null,
   "metadata": {},
   "outputs": [],
   "source": [
    "#Import union data into pandas\n",
    "#Check head\n",
    "import pandas as pd        \n",
    "df = pd.read_table(\"8C_32psu_union_5x.bedgraph\")\n",
    "df.head(5)"
   ]
  },
  {
   "cell_type": "code",
   "execution_count": null,
   "metadata": {},
   "outputs": [],
   "source": [
    "#Average the first 4 columns and save as a new column\n",
    "#Check output\n",
    "df['Avg_meth'] = df[['1', '2', '3','4']].mean(axis=1)\n",
    "df.tail(10)"
   ]
  },
  {
   "cell_type": "code",
   "execution_count": null,
   "metadata": {},
   "outputs": [],
   "source": [
    "df2 = df[['chrom', 'start', 'end','Avg_meth']]\n",
    "df2.tail(10)"
   ]
  },
  {
   "cell_type": "code",
   "execution_count": null,
   "metadata": {
    "collapsed": true
   },
   "outputs": [],
   "source": [
    "#Save dataframe in a tabular format and include N/As. Do not include quotes.\n",
    "df2.to_csv(\"8C_32psu_5x-averages.bedgraph\", sep = \"\\t\", na_rep = \"N/A\", header = False,index=False,quoting = 3)\n"
   ]
  },
  {
   "cell_type": "code",
   "execution_count": null,
   "metadata": {},
   "outputs": [],
   "source": [
    "#Import union data into pandas\n",
    "#Check head\n",
    "import pandas as pd        \n",
    "df = pd.read_table(\"16C_26psu_union_5x.bedgraph\")\n",
    "df.head(5)"
   ]
  },
  {
   "cell_type": "code",
   "execution_count": null,
   "metadata": {},
   "outputs": [],
   "source": [
    "#Average the first 4 columns and save as a new column\n",
    "#Check output\n",
    "df['Avg_meth'] = df[['1', '2', '3','4']].mean(axis=1)\n",
    "df.tail(10)"
   ]
  },
  {
   "cell_type": "code",
   "execution_count": null,
   "metadata": {},
   "outputs": [],
   "source": [
    "df2 = df[['chrom', 'start', 'end','Avg_meth']]\n",
    "df2.tail(10)"
   ]
  },
  {
   "cell_type": "code",
   "execution_count": null,
   "metadata": {
    "collapsed": true
   },
   "outputs": [],
   "source": [
    "#Save dataframe in a tabular format and include N/As. Do not include quotes.\n",
    "df2.to_csv(\"16C_26psu_5x-averages.bedgraph\", sep = \"\\t\", na_rep = \"N/A\", header = False,index=False,quoting = 3)\n"
   ]
  },
  {
   "cell_type": "code",
   "execution_count": null,
   "metadata": {},
   "outputs": [],
   "source": [
    "#Import union data into pandas\n",
    "#Check head\n",
    "import pandas as pd        \n",
    "df = pd.read_table(\"16C_32psu_union_5x.bedgraph\")\n",
    "df.head(5)"
   ]
  },
  {
   "cell_type": "code",
   "execution_count": null,
   "metadata": {},
   "outputs": [],
   "source": [
    "#Average the first 4 columns and save as a new column\n",
    "#Check output\n",
    "df['Avg_meth'] = df[['1', '2', '3','4']].mean(axis=1)\n",
    "df.tail(10)"
   ]
  },
  {
   "cell_type": "code",
   "execution_count": null,
   "metadata": {},
   "outputs": [],
   "source": [
    "df2 = df[['chrom', 'start', 'end','Avg_meth']]\n",
    "df2.tail(10)"
   ]
  },
  {
   "cell_type": "code",
   "execution_count": null,
   "metadata": {
    "collapsed": true
   },
   "outputs": [],
   "source": [
    "#Save dataframe in a tabular format and include N/As. Do not include quotes.\n",
    "df2.to_csv(\"16C_32psu_5x-averages.bedgraph\", sep = \"\\t\", na_rep = \"N/A\", header = False,index=False,quoting = 3)\n"
   ]
  },
  {
   "cell_type": "code",
   "execution_count": null,
   "metadata": {
    "collapsed": true
   },
   "outputs": [],
   "source": []
  },
  {
   "cell_type": "code",
   "execution_count": null,
   "metadata": {
    "collapsed": true
   },
   "outputs": [],
   "source": []
  },
  {
   "cell_type": "code",
   "execution_count": null,
   "metadata": {
    "collapsed": true
   },
   "outputs": [],
   "source": []
  },
  {
   "cell_type": "code",
   "execution_count": null,
   "metadata": {
    "collapsed": true
   },
   "outputs": [],
   "source": []
  }
 ],
 "metadata": {
  "kernelspec": {
   "display_name": "Python 3",
   "language": "python",
   "name": "python3"
  },
  "language_info": {
   "codemirror_mode": {
    "name": "ipython",
    "version": 3
   },
   "file_extension": ".py",
   "mimetype": "text/x-python",
   "name": "python",
   "nbconvert_exporter": "python",
   "pygments_lexer": "ipython3",
   "version": "3.6.8"
  }
 },
 "nbformat": 4,
 "nbformat_minor": 2
}
